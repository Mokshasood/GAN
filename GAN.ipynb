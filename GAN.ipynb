{
  "nbformat": 4,
  "nbformat_minor": 0,
  "metadata": {
    "colab": {
      "name": "GAN.ipynb",
      "provenance": [],
      "authorship_tag": "ABX9TyM8PUuuvoz3dkkZNiLD589C",
      "include_colab_link": true
    },
    "kernelspec": {
      "name": "python3",
      "display_name": "Python 3"
    },
    "accelerator": "GPU"
  },
  "cells": [
    {
      "cell_type": "markdown",
      "metadata": {
        "id": "view-in-github",
        "colab_type": "text"
      },
      "source": [
        "<a href=\"https://colab.research.google.com/github/Mokshasood/GAN/blob/master/GAN.ipynb\" target=\"_parent\"><img src=\"https://colab.research.google.com/assets/colab-badge.svg\" alt=\"Open In Colab\"/></a>"
      ]
    },
    {
      "cell_type": "code",
      "metadata": {
        "id": "EOEjlFuQqH8x",
        "colab_type": "code",
        "colab": {
          "base_uri": "https://localhost:8080/",
          "height": 35
        },
        "outputId": "49d36c75-8b52-472e-de0c-75fab6b7866b"
      },
      "source": [
        "import tensorflow as tf\n",
        "import numpy as np\n",
        "import pandas as pd\n",
        "import matplotlib.pyplot as plt\n",
        "import os\n",
        "import keras\n",
        "from keras.datasets import mnist"
      ],
      "execution_count": 2,
      "outputs": [
        {
          "output_type": "stream",
          "text": [
            "Using TensorFlow backend.\n"
          ],
          "name": "stderr"
        }
      ]
    },
    {
      "cell_type": "code",
      "metadata": {
        "id": "dqmdmVAy6C8_",
        "colab_type": "code",
        "colab": {}
      },
      "source": [
        "from tensorflow.keras import layers\n",
        "from keras.datasets import mnist\n",
        "from keras.layers import Input, Dense, Reshape, Flatten, Dropout\n",
        "from keras.layers import BatchNormalization, Activation, ZeroPadding2D\n",
        "from keras.layers.advanced_activations import LeakyReLU\n",
        "from keras.layers.convolutional import UpSampling2D, Conv2D\n",
        "from keras.models import Sequential, Model\n",
        "from keras.optimizers import Adam"
      ],
      "execution_count": 0,
      "outputs": []
    },
    {
      "cell_type": "code",
      "metadata": {
        "id": "zPe9PrxX6LIE",
        "colab_type": "code",
        "colab": {}
      },
      "source": [
        "def generator_model():\n",
        "    model = tf.keras.Sequential()\n",
        "    model.add(layers.Dense(7*7*256, input_shape=(100,))) \n",
        "    model.add(layers.BatchNormalization())\n",
        "    model.add(layers.LeakyReLU())\n",
        "\n",
        "    model.add(layers.Reshape((7, 7, 256)))\n",
        "\n",
        "    model.add(layers.Conv2DTranspose(128, (5, 5), strides=(1, 1), padding='same')) \n",
        "    model.add(layers.BatchNormalization())\n",
        "    model.add(layers.LeakyReLU())\n",
        "\n",
        "    model.add(layers.Conv2DTranspose(64, (5, 5), strides=(2, 2), padding='same', use_bias=False))\n",
        "    model.add(layers.BatchNormalization())\n",
        "    model.add(layers.LeakyReLU())\n",
        "\n",
        "    model.add(layers.Conv2DTranspose(1, (5, 5), strides=(2, 2), padding='same', activation='tanh'))\n",
        "    \n",
        "    return model"
      ],
      "execution_count": 0,
      "outputs": []
    },
    {
      "cell_type": "code",
      "metadata": {
        "id": "3vR2RUDN6YFu",
        "colab_type": "code",
        "colab": {}
      },
      "source": [
        "def discriminator_model():\n",
        "    model = tf.keras.Sequential()\n",
        "    model.add(layers.Conv2D(64, (5, 5), strides=(2, 2), padding='same', input_shape=[28, 28, 1]))\n",
        "    model.add(layers.LeakyReLU())\n",
        "    model.add(layers.Dropout(0.3))\n",
        "\n",
        "    model.add(layers.Conv2D(128, (5, 5), strides=(2, 2), padding='same'))\n",
        "    model.add(layers.LeakyReLU())\n",
        "    model.add(layers.Dropout(0.3))\n",
        "\n",
        "    model.add(layers.Flatten())\n",
        "    model.add(layers.Dense(1))\n",
        "\n",
        "    return model"
      ],
      "execution_count": 0,
      "outputs": []
    },
    {
      "cell_type": "code",
      "metadata": {
        "id": "Pf3QuBJQ6dh0",
        "colab_type": "code",
        "colab": {}
      },
      "source": [
        "def gan(generator,discriminator):\n",
        "    discriminator.trainable=False\n",
        "    model=tf.keras.Sequential()\n",
        "    model.add(generator)\n",
        "    model.add(discriminator)\n",
        "    return model"
      ],
      "execution_count": 0,
      "outputs": []
    },
    {
      "cell_type": "code",
      "metadata": {
        "id": "wGMR7oam6mBS",
        "colab_type": "code",
        "colab": {}
      },
      "source": [
        "generator=generator_model()\n",
        "discriminator = discriminator_model()\n",
        "discriminator.compile(optimizer='adam', loss='mse', metrics=['accuracy'])\n",
        "d_gan=gan(generator,discriminator)\n",
        "d_gan.compile(optimizer='adam', loss='mse', metrics=['accuracy'])"
      ],
      "execution_count": 0,
      "outputs": []
    },
    {
      "cell_type": "code",
      "metadata": {
        "id": "BiNnef9O6qvA",
        "colab_type": "code",
        "colab": {}
      },
      "source": [
        "batch_size=128\n",
        "epochs=50\n",
        "noise_dim=100"
      ],
      "execution_count": 0,
      "outputs": []
    },
    {
      "cell_type": "code",
      "metadata": {
        "id": "smxPZanp6tha",
        "colab_type": "code",
        "colab": {
          "base_uri": "https://localhost:8080/",
          "height": 52
        },
        "outputId": "2c2cc492-dd6c-4e1a-9935-77b2634e044f"
      },
      "source": [
        "(x_train, y_train), (x_test, y_test) = mnist.load_data()\n",
        "x_train = x_train.reshape(x_train.shape[0], 28, 28, 1).astype('float32')\n",
        "x_train = (x_train - 127.5) / 127.5"
      ],
      "execution_count": 9,
      "outputs": [
        {
          "output_type": "stream",
          "text": [
            "Downloading data from https://s3.amazonaws.com/img-datasets/mnist.npz\n",
            "11493376/11490434 [==============================] - 1s 0us/step\n"
          ],
          "name": "stdout"
        }
      ]
    },
    {
      "cell_type": "code",
      "metadata": {
        "id": "GjUoJl5QBGvp",
        "colab_type": "code",
        "colab": {
          "base_uri": "https://localhost:8080/",
          "height": 283
        },
        "outputId": "d78e2b7f-7409-4fce-db1e-7b03f304549f"
      },
      "source": [
        "plt.imshow(x_train[110].reshape((28,28)) , cmap = 'gray')"
      ],
      "execution_count": 10,
      "outputs": [
        {
          "output_type": "execute_result",
          "data": {
            "text/plain": [
              "<matplotlib.image.AxesImage at 0x7f831a300630>"
            ]
          },
          "metadata": {
            "tags": []
          },
          "execution_count": 10
        },
        {
          "output_type": "display_data",
          "data": {
            "image/png": "[encoded data removed]",
            "text/plain": [
              "<Figure size 432x288 with 1 Axes>"
            ]
          },
          "metadata": {
            "tags": [],
            "needs_background": "light"
          }
        }
      ]
    },
    {
      "cell_type": "code",
      "metadata": {
        "id": "X_uwKCg5IOua",
        "colab_type": "code",
        "colab": {}
      },
      "source": [
        "checkpoint_dir = './training_checkpoints'\n",
        "checkpoint_prefix = os.path.join(checkpoint_dir, \"ckpt\")\n",
        "checkpoint = tf.train.Checkpoint(generator=generator,\n",
        "                                 discriminator=discriminator)"
      ],
      "execution_count": 0,
      "outputs": []
    },
    {
      "cell_type": "code",
      "metadata": {
        "id": "MPlwhR6n9Qua",
        "colab_type": "code",
        "colab": {}
      },
      "source": [
        "D_loss=[]\n",
        "G_loss=[]\n",
        "def train(epochs, BATCH_SIZE):\n",
        "    n_batches = int(x_train.shape[0] // BATCH_SIZE)\n",
        "    #print('Batches per epoch:', n_batches)\n",
        "    \n",
        "    for epoch in range(epochs):\n",
        "\n",
        "      #print ('Epoch:',epoch+1)\n",
        "        \n",
        "      for i in range(n_batches):  \n",
        "        image_batch = x_train[np.random.randint(0, x_train.shape[0], size=BATCH_SIZE)]\n",
        "\n",
        "        noise = np.random.normal(0, 1, size=(BATCH_SIZE, noise_dim))\n",
        "\n",
        "        generated_images = generator.predict(noise)\n",
        "        X = np.concatenate((image_batch, generated_images))\n",
        "\n",
        "        Y = np.zeros(2*BATCH_SIZE)\n",
        "        Y[:BATCH_SIZE] = 0.9\n",
        "\n",
        "        discriminator.trainable = True\n",
        "        d_loss = discriminator.train_on_batch(X, Y)\n",
        "\n",
        "        noise = np.random.normal(0, 1, size=(BATCH_SIZE, noise_dim))\n",
        "        Y2 = np.ones(BATCH_SIZE)\n",
        "        discriminator.trainable = False\n",
        "        g_loss = d_gan.train_on_batch(noise, Y2)\n",
        "      D_loss.append(d_loss)\n",
        "      G_loss.append(g_loss)\n",
        "      #print ('Generator Loss:',g_loss,\"Discriminator Loss:\",d_loss)\n",
        "      \n",
        "\n",
        "      imgs = 8\n",
        "      x_fake = generator.predict(np.random.normal(loc=0, scale=1, size=(imgs, noise_dim)))\n",
        "      if (epoch+1)%10 == 0:\n",
        "          checkpoint.save(file_prefix = checkpoint_prefix)\n",
        "\n",
        "      for k in range(imgs):\n",
        "          plt.subplot(2, 4, k+1)\n",
        "          plt.imshow(x_fake[k].reshape(28, 28), cmap='gray')\n",
        "          plt.xticks([])\n",
        "          plt.yticks([])\n",
        "      plt.savefig('image_at_epoch_{:04d}.png'.format(epoch))\n",
        "      #plt.show()"
      ],
      "execution_count": 0,
      "outputs": []
    },
    {
      "cell_type": "code",
      "metadata": {
        "id": "3MYmgbdD-h8O",
        "colab_type": "code",
        "colab": {
          "base_uri": "https://localhost:8080/",
          "height": 263
        },
        "outputId": "1062fb53-7b42-4797-ecc8-fe0db64a10a3"
      },
      "source": [
        "train(epochs,batch_size)"
      ],
      "execution_count": 13,
      "outputs": [
        {
          "output_type": "stream",
          "text": [
            "/usr/local/lib/python3.6/dist-packages/ipykernel_launcher.py:41: MatplotlibDeprecationWarning: Adding an axes using the same arguments as a previous axes currently reuses the earlier instance.  In a future version, a new instance will always be created and returned.  Meanwhile, this warning can be suppressed, and the future behavior ensured, by passing a unique label to each axes instance.\n"
          ],
          "name": "stderr"
        },
        {
          "output_type": "display_data",
          "data": {
            "image/png": "[encoded data removed]",
            "text/plain": [
              "<Figure size 432x288 with 8 Axes>"
            ]
          },
          "metadata": {
            "tags": []
          }
        }
      ]
    },
    {
      "cell_type": "code",
      "metadata": {
        "id": "f5kUOG_T4H0U",
        "colab_type": "code",
        "colab": {
          "base_uri": "https://localhost:8080/",
          "height": 313
        },
        "outputId": "707a2437-d672-4e5e-d71c-4795ac71b7a2"
      },
      "source": [
        "dis=[]\n",
        "gen=[]\n",
        "for i in range(len(D_loss)):\n",
        "  dis.append(D_loss[i][0])\n",
        "  gen.append(G_loss[i][0])\n",
        "plt.plot(range(epochs),dis,label='Discriminator')\n",
        "plt.plot(range(epochs),gen,label='Generator')\n",
        "plt.legend()\n",
        "plt.title('Training Losses')\n",
        "plt.xlabel('Epochs')\n",
        "plt.ylabel('Loss')"
      ],
      "execution_count": 20,
      "outputs": [
        {
          "output_type": "execute_result",
          "data": {
            "text/plain": [
              "Text(0, 0.5, 'Loss')"
            ]
          },
          "metadata": {
            "tags": []
          },
          "execution_count": 20
        },
        {
          "output_type": "display_data",
          "data": {
            "image/png": "[encoded data removed]",
            "text/plain": [
              "<Figure size 432x288 with 1 Axes>"
            ]
          },
          "metadata": {
            "tags": [],
            "needs_background": "light"
          }
        }
      ]
    },
    {
      "cell_type": "code",
      "metadata": {
        "id": "YeMfbK3IJ78B",
        "colab_type": "code",
        "colab": {}
      },
      "source": [
        ""
      ],
      "execution_count": 0,
      "outputs": []
    }
  ]
}